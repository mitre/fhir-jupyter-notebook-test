{
 "cells": [
  {
   "cell_type": "markdown",
   "metadata": {},
   "source": [
    "# Jupyter Notebook Test\n",
    "\n",
    "This notebook tests launching a mybinder.org notebook to read data from a FHIR server."
   ]
  },
  {
   "cell_type": "markdown",
   "metadata": {},
   "source": [
    "Load dependencies:"
   ]
  },
  {
   "cell_type": "code",
   "execution_count": 1,
   "metadata": {},
   "outputs": [],
   "source": [
    "import pandas as pd\n",
    "import fhir_pyrate"
   ]
  },
  {
   "cell_type": "markdown",
   "metadata": {},
   "source": [
    "Test FHIR query:"
   ]
  },
  {
   "cell_type": "code",
   "execution_count": 12,
   "metadata": {},
   "outputs": [],
   "source": [
    "search = fhir_pyrate.Pirate(\n",
    "    auth=None,  # the demo fhir server does not require authentication\n",
    "    base_url=\"http://hapi.fhir.org/baseR4/\",\n",
    "    print_request_url=True,  # If set to true, you will see all requests\n",
    ")"
   ]
  },
  {
   "cell_type": "code",
   "execution_count": 13,
   "metadata": {},
   "outputs": [],
   "source": [
    "patient_bundle = search.steal_bundles(resource_type=\"Patient\", num_pages=1)"
   ]
  },
  {
   "cell_type": "code",
   "execution_count": 14,
   "metadata": {},
   "outputs": [
    {
     "name": "stderr",
     "output_type": "stream",
     "text": [
      "Query (Patient): 36it [03:46,  1.86it/s]"
     ]
    },
    {
     "name": "stdout",
     "output_type": "stream",
     "text": [
      "http://hapi.fhir.org/baseR4/Patient?\n"
     ]
    },
    {
     "name": "stderr",
     "output_type": "stream",
     "text": [
      "Query (Patient): 100%|██████████| 1/1 [00:00<00:00, 459.60it/s]"
     ]
    },
    {
     "name": "stdout",
     "output_type": "stream",
     "text": [
      "    fhirID   birthDate  given_name family_name\n",
      "0   593186         NaN         NaN         NaN\n",
      "1   593189         NaN         NaN         NaN\n",
      "2   593190         NaN         NaN         NaN\n",
      "3   593191         NaN         NaN         NaN\n",
      "4   593192         NaN         NaN         NaN\n",
      "5   593193         NaN         NaN         NaN\n",
      "6   593194         NaN         NaN         NaN\n",
      "7   593206         NaN         NaN         NaN\n",
      "8   593210  1967-10-31         NaN         NaN\n",
      "9   593213         NaN        Khan    Moazzams\n",
      "10  593214         NaN        Khan     Moazzam\n",
      "11  593216  1981-12-15         NaN         NaN\n",
      "12  593218  1967-10-31         NaN         NaN\n",
      "13  593222  1967-10-31         NaN         NaN\n",
      "14  593224         NaN  Tiffany303    Borer986\n",
      "15  593225         NaN  Tiffany303    Borer986\n",
      "16  593223  1998-01-27         NaN         NaN\n",
      "17  593253  1981-12-15         NaN         NaN\n",
      "18  593255  1960-01-01         NaN         NaN\n",
      "19  593256  1960-01-01         NaN         NaN\n"
     ]
    },
    {
     "name": "stderr",
     "output_type": "stream",
     "text": [
      "\n"
     ]
    }
   ],
   "source": [
    "df_patient = search.bundles_to_dataframe(\n",
    "    bundles=patient_bundle,\n",
    "    fhir_paths=[\n",
    "        (\"given_name\", \"Patient.name.where(use = 'official').given\"),\n",
    "        (\"family_name\", \"Patient.name.where(use = 'official').family\"),\n",
    "        (\"birthDate\", \"Patient.birthDate\"),\n",
    "        (\"fhirID\", \"Patient.id\")\n",
    "    ]\n",
    ")"
   ]
  },
  {
   "cell_type": "code",
   "execution_count": 15,
   "metadata": {},
   "outputs": [
    {
     "data": {
      "text/html": [
       "<div>\n",
       "<style scoped>\n",
       "    .dataframe tbody tr th:only-of-type {\n",
       "        vertical-align: middle;\n",
       "    }\n",
       "\n",
       "    .dataframe tbody tr th {\n",
       "        vertical-align: top;\n",
       "    }\n",
       "\n",
       "    .dataframe thead th {\n",
       "        text-align: right;\n",
       "    }\n",
       "</style>\n",
       "<table border=\"1\" class=\"dataframe\">\n",
       "  <thead>\n",
       "    <tr style=\"text-align: right;\">\n",
       "      <th></th>\n",
       "      <th>fhirID</th>\n",
       "      <th>birthDate</th>\n",
       "      <th>given_name</th>\n",
       "      <th>family_name</th>\n",
       "    </tr>\n",
       "  </thead>\n",
       "  <tbody>\n",
       "    <tr>\n",
       "      <th>0</th>\n",
       "      <td>593186</td>\n",
       "      <td>NaN</td>\n",
       "      <td>NaN</td>\n",
       "      <td>NaN</td>\n",
       "    </tr>\n",
       "    <tr>\n",
       "      <th>1</th>\n",
       "      <td>593189</td>\n",
       "      <td>NaN</td>\n",
       "      <td>NaN</td>\n",
       "      <td>NaN</td>\n",
       "    </tr>\n",
       "    <tr>\n",
       "      <th>2</th>\n",
       "      <td>593190</td>\n",
       "      <td>NaN</td>\n",
       "      <td>NaN</td>\n",
       "      <td>NaN</td>\n",
       "    </tr>\n",
       "    <tr>\n",
       "      <th>3</th>\n",
       "      <td>593191</td>\n",
       "      <td>NaN</td>\n",
       "      <td>NaN</td>\n",
       "      <td>NaN</td>\n",
       "    </tr>\n",
       "    <tr>\n",
       "      <th>4</th>\n",
       "      <td>593192</td>\n",
       "      <td>NaN</td>\n",
       "      <td>NaN</td>\n",
       "      <td>NaN</td>\n",
       "    </tr>\n",
       "    <tr>\n",
       "      <th>5</th>\n",
       "      <td>593193</td>\n",
       "      <td>NaN</td>\n",
       "      <td>NaN</td>\n",
       "      <td>NaN</td>\n",
       "    </tr>\n",
       "    <tr>\n",
       "      <th>6</th>\n",
       "      <td>593194</td>\n",
       "      <td>NaN</td>\n",
       "      <td>NaN</td>\n",
       "      <td>NaN</td>\n",
       "    </tr>\n",
       "    <tr>\n",
       "      <th>7</th>\n",
       "      <td>593206</td>\n",
       "      <td>NaN</td>\n",
       "      <td>NaN</td>\n",
       "      <td>NaN</td>\n",
       "    </tr>\n",
       "    <tr>\n",
       "      <th>8</th>\n",
       "      <td>593210</td>\n",
       "      <td>1967-10-31</td>\n",
       "      <td>NaN</td>\n",
       "      <td>NaN</td>\n",
       "    </tr>\n",
       "    <tr>\n",
       "      <th>9</th>\n",
       "      <td>593213</td>\n",
       "      <td>NaN</td>\n",
       "      <td>Khan</td>\n",
       "      <td>Moazzams</td>\n",
       "    </tr>\n",
       "    <tr>\n",
       "      <th>10</th>\n",
       "      <td>593214</td>\n",
       "      <td>NaN</td>\n",
       "      <td>Khan</td>\n",
       "      <td>Moazzam</td>\n",
       "    </tr>\n",
       "    <tr>\n",
       "      <th>11</th>\n",
       "      <td>593216</td>\n",
       "      <td>1981-12-15</td>\n",
       "      <td>NaN</td>\n",
       "      <td>NaN</td>\n",
       "    </tr>\n",
       "    <tr>\n",
       "      <th>12</th>\n",
       "      <td>593218</td>\n",
       "      <td>1967-10-31</td>\n",
       "      <td>NaN</td>\n",
       "      <td>NaN</td>\n",
       "    </tr>\n",
       "    <tr>\n",
       "      <th>13</th>\n",
       "      <td>593222</td>\n",
       "      <td>1967-10-31</td>\n",
       "      <td>NaN</td>\n",
       "      <td>NaN</td>\n",
       "    </tr>\n",
       "    <tr>\n",
       "      <th>14</th>\n",
       "      <td>593224</td>\n",
       "      <td>NaN</td>\n",
       "      <td>Tiffany303</td>\n",
       "      <td>Borer986</td>\n",
       "    </tr>\n",
       "    <tr>\n",
       "      <th>15</th>\n",
       "      <td>593225</td>\n",
       "      <td>NaN</td>\n",
       "      <td>Tiffany303</td>\n",
       "      <td>Borer986</td>\n",
       "    </tr>\n",
       "    <tr>\n",
       "      <th>16</th>\n",
       "      <td>593223</td>\n",
       "      <td>1998-01-27</td>\n",
       "      <td>NaN</td>\n",
       "      <td>NaN</td>\n",
       "    </tr>\n",
       "    <tr>\n",
       "      <th>17</th>\n",
       "      <td>593253</td>\n",
       "      <td>1981-12-15</td>\n",
       "      <td>NaN</td>\n",
       "      <td>NaN</td>\n",
       "    </tr>\n",
       "    <tr>\n",
       "      <th>18</th>\n",
       "      <td>593255</td>\n",
       "      <td>1960-01-01</td>\n",
       "      <td>NaN</td>\n",
       "      <td>NaN</td>\n",
       "    </tr>\n",
       "    <tr>\n",
       "      <th>19</th>\n",
       "      <td>593256</td>\n",
       "      <td>1960-01-01</td>\n",
       "      <td>NaN</td>\n",
       "      <td>NaN</td>\n",
       "    </tr>\n",
       "  </tbody>\n",
       "</table>\n",
       "</div>"
      ],
      "text/plain": [
       "    fhirID   birthDate  given_name family_name\n",
       "0   593186         NaN         NaN         NaN\n",
       "1   593189         NaN         NaN         NaN\n",
       "2   593190         NaN         NaN         NaN\n",
       "3   593191         NaN         NaN         NaN\n",
       "4   593192         NaN         NaN         NaN\n",
       "5   593193         NaN         NaN         NaN\n",
       "6   593194         NaN         NaN         NaN\n",
       "7   593206         NaN         NaN         NaN\n",
       "8   593210  1967-10-31         NaN         NaN\n",
       "9   593213         NaN        Khan    Moazzams\n",
       "10  593214         NaN        Khan     Moazzam\n",
       "11  593216  1981-12-15         NaN         NaN\n",
       "12  593218  1967-10-31         NaN         NaN\n",
       "13  593222  1967-10-31         NaN         NaN\n",
       "14  593224         NaN  Tiffany303    Borer986\n",
       "15  593225         NaN  Tiffany303    Borer986\n",
       "16  593223  1998-01-27         NaN         NaN\n",
       "17  593253  1981-12-15         NaN         NaN\n",
       "18  593255  1960-01-01         NaN         NaN\n",
       "19  593256  1960-01-01         NaN         NaN"
      ]
     },
     "execution_count": 15,
     "metadata": {},
     "output_type": "execute_result"
    }
   ],
   "source": [
    "df_patient"
   ]
  }
 ],
 "metadata": {
  "kernelspec": {
   "display_name": "fhir-jupyter-notebook-test-RTEAsmK4",
   "language": "python",
   "name": "python3"
  },
  "language_info": {
   "codemirror_mode": {
    "name": "ipython",
    "version": 3
   },
   "file_extension": ".py",
   "mimetype": "text/x-python",
   "name": "python",
   "nbconvert_exporter": "python",
   "pygments_lexer": "ipython3",
   "version": "3.12.3"
  }
 },
 "nbformat": 4,
 "nbformat_minor": 2
}
